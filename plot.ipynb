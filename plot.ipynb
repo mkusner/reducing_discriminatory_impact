{
 "cells": [
  {
   "cell_type": "code",
   "execution_count": 1,
   "metadata": {
    "collapsed": true
   },
   "outputs": [],
   "source": [
    "import numpy as np\n",
    "import matplotlib.pyplot as plt\n",
    "import pdb\n",
    "import load"
   ]
  },
  {
   "cell_type": "code",
   "execution_count": 5,
   "metadata": {},
   "outputs": [
    {
     "data": {
      "text/plain": [
       "array([0.043     , 0.04915789, 0.05531579, 0.06147368, 0.06763158,\n",
       "       0.07378947, 0.07994737, 0.08610526, 0.09226316, 0.09842105,\n",
       "       0.10457895, 0.11073684, 0.11689474, 0.12305263, 0.12921053,\n",
       "       0.13536842, 0.14152632, 0.14768421, 0.15384211, 0.16      ])"
      ]
     },
     "execution_count": 5,
     "metadata": {},
     "output_type": "execute_result"
    }
   ],
   "source": [
    "np.linspace(0.043,0.16,num=20)"
   ]
  },
  {
   "cell_type": "code",
   "execution_count": 2,
   "metadata": {
    "collapsed": true
   },
   "outputs": [],
   "source": [
    "def check_constraint(Aw1, Aw2, Aw3, Aw4, S, x1, x22, x3, n):\n",
    "    lhs = np.zeros((n,))\n",
    "    #for a in range(da):\n",
    "    #H1_debug = np.dot(S * (Aw1 - Aw1_hat[a]), x1)\n",
    "    H1 = np.dot(S * (Aw1), x1)\n",
    "    H2 = np.dot(S * (Aw2), x22)\n",
    "    H3 = (Aw3) * x3\n",
    "    H4 = (Aw4)\n",
    "    H20= np.zeros((n,))\n",
    "    H21= np.zeros((n,))\n",
    "    H22= np.zeros((n,))\n",
    "    for i in range(n):\n",
    "        #if a == A_ix[i]:\n",
    "        #    continue\n",
    "        lhs[i] = H1[i,0] + H2[i,0] + H3[i,0] + H4[i,0]\n",
    "        if x22[i,0] == 1.0:\n",
    "            a_ix = np.argmax(A[i,:])\n",
    "            if a_ix == 0:\n",
    "                H20[i] = H2[i,0]\n",
    "            elif a_ix == 1:\n",
    "                H21[i] = H2[i,0]\n",
    "            else:\n",
    "                H22[i] = H2[i,0]\n",
    "    return lhs, H20, H21, H22\n",
    "\n",
    "\n",
    "# load data\n",
    "sim = 5#15\n",
    "frac = 1\n",
    "_, y, S, X, A, _ = load.get_data(sim, 0)\n",
    "_, _, _, _, A_frac, _ = load.get_data(sim, 1)\n",
    "(n,n) = S.shape\n",
    "da = A.shape[-1]\n",
    "int_on = 2\n",
    "x1 = X[:,0].reshape(n,1)\n",
    "x2 = X[:,1].reshape(n,1)\n",
    "x3 = X[:,2].reshape(n,1)\n",
    "\n",
    "\n",
    "# load weights\n",
    "if frac:\n",
    "    DICT = np.load('school_weights_linear_mse_sim' + str(sim) + '_max1_frac.npz')\n",
    "else:\n",
    "    DICT = np.load('school_weights_linear_mse_sim' + str(sim) + '_max1.npz')\n",
    "weights = DICT['w'].T\n",
    "# get weight matrix, for x2 \n",
    "w1 = weights[0:da,:]\n",
    "w2 = weights[da:da*2,:]                                                                                     \n",
    "w3 = weights[da*2:da*3,:]\n",
    "w4 = weights[da*3:da*4,:]\n",
    "#x_int = np.zeros((n,))\n",
    "\n",
    "# # DEPRICATED\n",
    "# if int_on == 1:\n",
    "#     #ix = (x1 == 0)\n",
    "#     weight_int = w1                                                                                         \n",
    "#     #x_int = x1                                                                                              \n",
    "#     H = S * np.dot(A,w1)                                                                                    \n",
    "# elif int_on == 2:\n",
    "#     #ix = (x2 == 0)\n",
    "#     weight_int = w2                                                                                         \n",
    "#     #x_int = x2                                                                                              \n",
    "#     H = S * np.dot(A,w2) # (n,n)                                                                            \n",
    "# elif int_on == 3:\n",
    "#     #ix = (x3 == 0)                                                                                          \n",
    "#     weight_int = w3\n",
    "#     #x_int = x3\n",
    "#     H = np.dot(A,w3) # (n,1)                                                                                \n",
    "# else:\n",
    "#     print('err')\n",
    "# #inds = np.where(ix == True)[0]\n",
    "# # DEPRICATED\n",
    "    \n",
    "Aw1 = np.dot(A, w1)\n",
    "Aw2 = np.dot(A, w2)\n",
    "Aw3 = np.dot(A, w3)\n",
    "Aw4 = np.dot(A, w4)\n",
    "\n",
    "\n",
    "Aw1_frac = np.dot(A_frac, w1)\n",
    "Aw2_frac = np.dot(A_frac, w2)\n",
    "Aw3_frac = np.dot(A_frac, w3)\n",
    "Aw4_frac = np.dot(A_frac, w4)"
   ]
  },
  {
   "cell_type": "code",
   "execution_count": 15,
   "metadata": {},
   "outputs": [
    {
     "data": {
      "text/plain": [
       "18"
      ]
     },
     "execution_count": 15,
     "metadata": {},
     "output_type": "execute_result"
    }
   ],
   "source": [
    "len(np.linspace(0.13, 0.28, num=20)[2:])\n",
    "#[round(a,2) for a in np.linspace(0.15, 0.28, num=20)]"
   ]
  },
  {
   "cell_type": "code",
   "execution_count": 48,
   "metadata": {},
   "outputs": [
    {
     "data": {
      "text/plain": [
       "array([[0.01668268],\n",
       "       [0.04726144],\n",
       "       [0.15377   ]], dtype=float32)"
      ]
     },
     "execution_count": 48,
     "metadata": {},
     "output_type": "execute_result"
    }
   ],
   "source": [
    "w2"
   ]
  },
  {
   "cell_type": "code",
   "execution_count": null,
   "metadata": {
    "collapsed": true
   },
   "outputs": [],
   "source": [
    "tau = np.linspace(0.10, 0.18, num=9)\n",
    "K = [5, 10, 50]\n",
    "DICT = np.load('results/unfair_k' + str(K[2]) + '_' + str(tau[1]) + '.npz')\n",
    "sol_unfair = DICT['sol']\n",
    "np.sum(A,axis=0)#inds[np.where(sol_unfair == 1.0)[0]],:],axis=0)"
   ]
  },
  {
   "cell_type": "code",
   "execution_count": 3,
   "metadata": {},
   "outputs": [
    {
     "name": "stdout",
     "output_type": "stream",
     "text": [
      "k=25\n",
      "tau=0.04\n",
      "tau=0.04631578947368421\n",
      "tau=0.05263157894736842\n",
      "tau=0.05894736842105263\n",
      "tau=0.06526315789473684\n",
      "tau=0.07157894736842105\n",
      "tau=0.07789473684210527\n",
      "tau=0.08421052631578947\n",
      "tau=0.09052631578947368\n",
      "tau=0.0968421052631579\n",
      "tau=0.10315789473684212\n",
      "tau=0.1094736842105263\n",
      "tau=0.11578947368421053\n",
      "tau=0.12210526315789474\n",
      "tau=0.12842105263157894\n",
      "tau=0.13473684210526315\n",
      "tau=0.14105263157894737\n",
      "tau=0.14736842105263157\n",
      "tau=0.15368421052631578\n",
      "tau=0.16\n"
     ]
    }
   ],
   "source": [
    "# NOTE: all that matters here is A_added and obj\n",
    "def get_obj_and_A(filename, int_on, Aw1, Aw2, Aw3, Aw4, S, x2, x3, n, A):\n",
    "    DICT = np.load(filename)\n",
    "    sol = DICT['sol']\n",
    "    added = np.where(sol == 1.0)[0]\n",
    "    x_int = np.zeros((n,1))\n",
    "    #pdb.set_trace()\n",
    "    #print(len(added))\n",
    "    if len(added) > 0:\n",
    "        x_int[added,0] = 1\n",
    "    if int_on == 1:\n",
    "        obj, H20, H21, H22 = check_constraint(Aw1, Aw2, Aw3, Aw4, S, x_int, x2, x3, n)\n",
    "    elif int_on == 2:\n",
    "        obj, H20, H21, H22 = check_constraint(Aw1, Aw2, Aw3, Aw4, S, x1, x_int, x3, n)\n",
    "    elif int_on == 3:\n",
    "        obj, H20, H21, H22 = check_constraint(Aw1, Aw2, Aw3, Aw4, S, x1, x2, x_int, n)\n",
    "    else:\n",
    "        print('wrong')\n",
    "    A_total = np.sum(A, axis=0)\n",
    "    A_added = np.sum(A[added,:], axis=0)\n",
    "    A_perc  = A_added / A_total\n",
    "    #pdb.set_trace()\n",
    "    return obj, A_total, A_added, A_perc, sol, H20, H21, H22\n",
    "\n",
    "tau = np.linspace(0.13, 0.28, num=20)\n",
    "tau = np.linspace(0.04,0.16, num=20)\n",
    "#tau = tau[2:]\n",
    "K = [25]\n",
    "#A_inds = A[inds,:]\n",
    "\n",
    "fair_perc = np.zeros((len(tau),3))\n",
    "fair_added= np.zeros((len(tau),3))\n",
    "fair_obj  = np.zeros((len(tau),))\n",
    "for k in range(len(K)):\n",
    "    print('k=' + str(K[k]))\n",
    "    for t in range(len(tau)):\n",
    "        print('tau=' + str(tau[t]))\n",
    "        #filename = 'results/new_unfair_k' + str(K[k]) + '_' + str(tau[t]) + '_sim' + str(sim) + '_int' + str(int_on) + '.npz'\n",
    "        #obj, A_total, A_added, A_perc, sol, H20, H21, H22 = get_obj_and_A(filename, int_on, Aw1, Aw2, Aw3, Aw4, S, x2, x3, n, A)\n",
    "        \n",
    "        filename = 'results/new_fair_k' + str(K[k]) + '_' + str(tau[t]) + '_sim' + str(sim) + '_int' + str(int_on) + '.npz'\n",
    "        obj_fair, A_total_fair, A_added_fair, A_perc_fair, sol_fair, h20, h21, h22 = get_obj_and_A(filename, int_on, Aw1, Aw2, Aw3, Aw4, S, x2, x3, n, A)\n",
    "        fair_added[t,:]= A_added_fair\n",
    "        fair_perc[t,:] = A_perc_fair\n",
    "        fair_obj[t] = np.sum(obj_fair)\n",
    "        #print(A_added)\n",
    "        #print(A_added_fair)\n",
    "        #print(np.sum(obj_fair))\n",
    "        #print(sol_fair)\n",
    "        #if t >= 2:\n",
    "        #    pdb.set_trace()\n",
    "        #if len(sol_fair) != 0:\n",
    "        #    pdb.set_trace()"
   ]
  },
  {
   "cell_type": "code",
   "execution_count": null,
   "metadata": {
    "collapsed": true
   },
   "outputs": [],
   "source": [
    "len(tau)"
   ]
  },
  {
   "cell_type": "code",
   "execution_count": 4,
   "metadata": {},
   "outputs": [
    {
     "data": {
      "image/png": "[encoded data removed]",
      "text/plain": [
       "<Figure size 432x288 with 1 Axes>"
      ]
     },
     "metadata": {},
     "output_type": "display_data"
    }
   ],
   "source": [
    "fig, ax = plt.subplots()\n",
    "#plt.rc('text', usetex=True)\n",
    "#plt.rc('font', family='serif')\n",
    "plt.plot(tau, np.repeat(A_perc[0], len(tau)), '--r')\n",
    "plt.plot(tau, fair_perc[:,0], '-r')\n",
    "plt.plot(tau, np.repeat(A_perc[1], len(tau)), '--b')\n",
    "plt.plot(tau, fair_perc[:,1], '-b')\n",
    "plt.plot(tau, np.repeat(A_perc[2], len(tau)), '--m')\n",
    "plt.plot(tau, fair_perc[:,2], '-m')\n",
    "plt.legend(['black, unfair', 'black, fair', 'hispanic, unfair', 'hispanic fair', 'white, unfair', 'white, fair'], loc='upper left')\n",
    "ax.grid(color='k', linestyle='--', linewidth=0.25)\n",
    "plt.axis([tau[0], tau[-1], -0.01, 1.02])\n",
    "plt.ylabel('% allocated to race')\n",
    "#plt.xlabel(r\"$\\displaystyle\\tau$\",fontsize=16)\n",
    "plt.show()\n",
    "#plt.savefig('linear_K25_race_alloc_sim5.pdf', bbox_inches='tight')"
   ]
  },
  {
   "cell_type": "code",
   "execution_count": 10,
   "metadata": {},
   "outputs": [
    {
     "data": {
      "image/png": "[encoded data removed]",
      "text/plain": [
       "<Figure size 792x360 with 1 Axes>"
      ]
     },
     "metadata": {},
     "output_type": "display_data"
    }
   ],
   "source": [
    "fig, ax = plt.subplots(figsize=(11, 5))\n",
    "#ind = np.arange(0,36,2)\n",
    "ind = np.arange(0,40,2)[1:]\n",
    "ax.grid(color='k', linestyle='-', linewidth=0.25)\n",
    "width = 0.5\n",
    "p1 = ax.bar(ind, fair_added[1:,0], width, color='r')\n",
    "p2 = ax.bar(ind+width, fair_added[1:,1], width, color='b')\n",
    "p3 = ax.bar(ind+width*2, fair_added[1:,2], width, color='m')\n",
    "#ax.set_title('Scores by group and gender')\n",
    "ax.set_xticks(ind + width)\n",
    "#labs = [\"%.3f\" % round(a,3) for a in tau]\n",
    "labs = [\"%.3f\" % round(a,3) for a in np.linspace(0.04, 0.16, 20)[1:]]\n",
    "ax.set_xticklabels(labs)\n",
    "#ax.set_yticklabels(np.arange(0,50,5))\n",
    "\n",
    "plt.yticks(np.arange(0,26,5))\n",
    "#plt.axis([-1, 36, 0, 25])\n",
    "plt.axis([1, 40, 0, 25])\n",
    "ax.legend((p1[0], p2[0], p3[0]), ('black', 'Hispanic', 'white'))\n",
    "#ax.yaxis.set_units(inch)\n",
    "#ax.autoscale_view()\n",
    "plt.show()\n",
    "#plt.savefig('bar_K25_linear_race_alloc_sim5.pdf', bbox_inches='tight')"
   ]
  },
  {
   "cell_type": "code",
   "execution_count": null,
   "metadata": {
    "collapsed": true
   },
   "outputs": [],
   "source": [
    "fig, ax = plt.subplots(figsize=(0.65, 5))\n",
    "ind = np.zeros((1,))#np.arange(0,40,2)\n",
    "ax.grid(color='k', linestyle='-', linewidth=0.25)\n",
    "width = 0.5\n",
    "p1 = ax.bar(ind, A_added[0], width, color='r')\n",
    "p2 = ax.bar(ind+width, A_added[1], width, color='b')\n",
    "p3 = ax.bar(ind+width*2, A_added[2], width, color='m')\n",
    "#ax.set_title('Scores by group and gender')\n",
    "ax.set_xticks(ind + width)\n",
    "labs = [\"%.2f\" % round(a,2) for a in np.linspace(0.04, 0.16, 20)]\n",
    "ax.set_xticklabels('')#labs)\n",
    "#ax.set_yticklabels('')\n",
    "#ax.set_yticklabels(np.arange(0,50,5))\n",
    "\n",
    "plt.yticks(np.arange(0,51,5))\n",
    "plt.axis([-0.5, 1.5, 0, 50])#40, 0, 50])\n",
    "#ax.legend((p1[0], p2[0], p3[0]), ('black, unfair', 'hispanic, unfair', 'white, unfair'), loc='upper left')\n",
    "#ax.yaxis.set_units(inch)\n",
    "#ax.autoscale_view()\n",
    "#plt.show()\n",
    "plt.savefig('bar_unfair_linear_race_alloc_sim5.pdf', bbox_inches='tight')\n",
    "#plt.savefig('bar_max_race_alloc_sim5.pdf', bbox_inches='tight')"
   ]
  },
  {
   "cell_type": "code",
   "execution_count": 39,
   "metadata": {},
   "outputs": [
    {
     "data": {
      "image/png": "[encoded data removed]",
      "text/plain": [
       "<Figure size 360x360 with 1 Axes>"
      ]
     },
     "metadata": {},
     "output_type": "display_data"
    }
   ],
   "source": [
    "fig, ax = plt.subplots(figsize=(5, 5))\n",
    "plt.plot(tau[2:], np.repeat(np.sum(obj), len(tau[2:])), '--k')\n",
    "plt.plot(tau[2:], fair_obj[2:], '-k')\n",
    "plt.legend(['unconstrained', 'fair'], loc='upper left')\n",
    "ax.grid(color='k', linestyle='--', linewidth=0.25)\n",
    "plt.axis([tau[2], tau[-1], 35.5,38.13])\n",
    "#plt.xticks(np.linspace(0.16,0.28,12))\n",
    "plt.ylabel('objective')\n",
    "#plt.show()\n",
    "plt.savefig('linear_K25_race_obj_sim5.pdf', bbox_inches='tight')"
   ]
  },
  {
   "cell_type": "code",
   "execution_count": null,
   "metadata": {
    "collapsed": true
   },
   "outputs": [],
   "source": [
    "fair_obj[2:]"
   ]
  },
  {
   "cell_type": "code",
   "execution_count": null,
   "metadata": {
    "collapsed": true
   },
   "outputs": [],
   "source": [
    "fair_perc[:,0]"
   ]
  },
  {
   "cell_type": "code",
   "execution_count": null,
   "metadata": {
    "collapsed": true
   },
   "outputs": [],
   "source": [
    "fair_obj[2:]"
   ]
  },
  {
   "cell_type": "markdown",
   "metadata": {},
   "source": [
    "# MAX MODEL!!!!!!! JUST USE THIS!"
   ]
  },
  {
   "cell_type": "code",
   "execution_count": 1,
   "metadata": {
    "collapsed": true
   },
   "outputs": [],
   "source": [
    "import numpy as np\n",
    "import matplotlib.pyplot as plt\n",
    "import pdb\n",
    "import load"
   ]
  },
  {
   "cell_type": "code",
   "execution_count": 2,
   "metadata": {},
   "outputs": [
    {
     "name": "stdout",
     "output_type": "stream",
     "text": [
      "sim=5\n",
      "frac=1\n",
      "[0.03368421 0.04       0.04631579 0.05263158 0.05894737 0.06526316\n",
      " 0.07157895 0.07789474 0.08421053 0.09052632 0.09684211 0.10315789\n",
      " 0.10947368 0.11578947 0.12210526 0.12842105 0.13473684 0.14105263\n",
      " 0.14736842 0.15368421 0.16       0.16631579 0.17263158 0.17894737\n",
      " 0.18526316]\n",
      "0.03368421052631579\n",
      "0.04\n",
      "0.04631578947368421\n",
      "0.05263157894736842\n",
      "0.05894736842105263\n",
      "0.06526315789473684\n",
      "0.07157894736842105\n",
      "0.07789473684210527\n",
      "0.08421052631578947\n",
      "0.09052631578947368\n",
      "0.0968421052631579\n",
      "0.10315789473684212\n",
      "0.1094736842105263\n",
      "0.11578947368421053\n",
      "0.12210526315789474\n",
      "0.12842105263157894\n",
      "0.13473684210526315\n",
      "0.14105263157894737\n",
      "0.14736842105263157\n",
      "0.15368421052631578\n",
      "0.16\n",
      "0.16631578947368422\n",
      "0.1726315789473684\n",
      "0.17894736842105263\n",
      "0.18526315789473685\n"
     ]
    }
   ],
   "source": [
    "# load data\n",
    "sim = 5\n",
    "frac = 1\n",
    "print('sim=' + str(sim))\n",
    "print('frac=' + str(frac)) \n",
    "_, _, S, X, A, neigh  = load.get_data(sim, 0)\n",
    "_, _, _, _, A_frac, _  = load.get_data(sim, 1)\n",
    "n = S.shape[0]\n",
    "da = A.shape[-1]\n",
    "if frac:\n",
    "    DICT = np.load('school_weights_linear_mse_sim' + str(sim) + '_max1_frac.npz')\n",
    "else:\n",
    "    DICT = np.load('school_weights_linear_mse_sim' + str(sim) + '_max1.npz')\n",
    "w = DICT['w'].T\n",
    "\n",
    "# get weight matrix, for x2\n",
    "w1 = w[0:da,:]\n",
    "w2 = w[da:da*2,:]\n",
    "w3 = w[da*2:da*3,:]\n",
    "w4 = w[da*3:da*4,:]\n",
    "neigh = neigh.astype(int)\n",
    "# we just care about int_on for now\n",
    "x1 = X[:,0]#.reshape(n,1)\n",
    "x3 = X[:,2]#.reshape(n,1)\n",
    "K=25\n",
    "A_ix = np.argmax(A,axis=1)\n",
    "\n",
    "\n",
    "def EY(index,solution,a):\n",
    "    #pdb.set_trace()\n",
    "    neighS = S[index,neigh[index,:]]\n",
    "    if MAX:\n",
    "        first  = w1[a]*np.max(neighS*x1[neigh[index,:]])                                                 \n",
    "        second = w2[a]*np.max(neighS*solution[neigh[index,:]].astype(float))                                                               \n",
    "    else:\n",
    "        first  = w1[a]*np.sum(neighS*x1[neigh[index,:]])                                                 \n",
    "        second = w2[a]*np.sum(neighS*solution[neigh[index,:]].astype(float))                                                               \n",
    "    third  = w3[a]*x3[index]\n",
    "    fourth = w4[a]\n",
    "    return first + second + third + fourth\n",
    "\n",
    "def EY_inner(index,solution,a):\n",
    "    neighS = S[index,neigh[index,:]]\n",
    "    first  = np.dot(a,w1)*np.max(neighS*x1[neigh[index,:]])\n",
    "    second = np.dot(a,w2)*np.max(neighS*solution[neigh[index,:]].astype(float))\n",
    "    third  = np.dot(a,w3)*x3[index]\n",
    "    fourth = np.dot(a,w4)\n",
    "    return first + second + third + fourth\n",
    "\n",
    "\n",
    "\n",
    "\n",
    "\n",
    "# TAUS = np.linspace(0.04, 0.16, 20)\n",
    "# TAU_DIFF = TAUS[1]-TAUS[0]\n",
    "# bb = [0.04-(a*TAU_DIFF) for a in np.arange(1,2)]\n",
    "# bb = np.flip(bb,axis=0)\n",
    "# cc = [0.16+(a*TAU_DIFF) for a in np.arange(1,5)]\n",
    "# TAUS = np.concatenate((bb,TAUS,cc))\n",
    "\n",
    "DICT = np.load('results/TAUS_frac.npz')\n",
    "TAUS = DICT['TAUS']\n",
    "C = len(TAUS)\n",
    "\n",
    "f_obj = np.zeros((C,))\n",
    "f_perc = np.zeros((C,3))\n",
    "count = 0\n",
    "A_total = np.sum(A,axis=0)\n",
    "f_added = np.zeros((C,3))\n",
    "#pdb.set_trace()\n",
    "print(TAUS)\n",
    "for Tau in TAUS:\n",
    "    print(Tau)\n",
    "    if frac:\n",
    "        filename = 'results/max_fair_k' + str(K) + '_' + str(Tau) + '_sim' + str(sim) + '_frac.npz'\n",
    "    else:\n",
    "        filename = 'results/max_fair_k' + str(K) + '_' + str(Tau) + '_sim' + str(sim) + '.npz'\n",
    "    DICT = np.load(filename)\n",
    "    sol = DICT['sol']\n",
    "    if np.sum(sol) > 0:\n",
    "        for i in range(n):\n",
    "            if frac:\n",
    "                f_obj[count] += EY_inner(i,sol,A_frac[np.newaxis,i,:])#A_ix[i])\n",
    "            else:\n",
    "                f_obj[count] += EY(i,sol,A_ix[i])\n",
    "        A_added = np.sum(A[sol,:],axis=0)\n",
    "        f_added[count,:] = A_added\n",
    "        f_perc[count,:]  = A_added / A_total\n",
    "    count += 1\n",
    "\n",
    "if frac:\n",
    "    filename = 'results/max_fair_k' + str(K) + '_' + str(TAUS[-1]) + '_sim' + str(sim) + '_frac.npz'\n",
    "else:\n",
    "    filename = 'results/max_fair_k' + str(K) + '_' + str(TAUS[-1]) + '_sim' + str(sim) + '.npz'\n",
    "DICT = np.load(filename)\n",
    "u_sol = DICT['sol']\n",
    "u_obj = 0.0\n",
    "#u_perc = np.zeros((1,3))\n",
    "for i in range(n):\n",
    "    if frac:\n",
    "        u_obj += EY_inner(i,u_sol,A_frac[np.newaxis,i,:])\n",
    "    else:\n",
    "        u_obj += EY(i,u_sol,A_ix[i])\n",
    "u_added = np.sum(A[u_sol,:],axis=0)\n",
    "u_perc  = u_added / A_total"
   ]
  },
  {
   "cell_type": "code",
   "execution_count": 36,
   "metadata": {
    "collapsed": true
   },
   "outputs": [],
   "source": [
    "DICT = np.load('results/max_fair_k' + str(K) + '_' + str(TAUS[-2]) + '_sim' + str(sim) + '_frac.npz')"
   ]
  },
  {
   "cell_type": "code",
   "execution_count": 37,
   "metadata": {},
   "outputs": [
    {
     "data": {
      "text/plain": [
       "25"
      ]
     },
     "execution_count": 37,
     "metadata": {},
     "output_type": "execute_result"
    }
   ],
   "source": [
    "np.sum(DICT['sol'])"
   ]
  },
  {
   "cell_type": "code",
   "execution_count": 38,
   "metadata": {},
   "outputs": [
    {
     "data": {
      "text/plain": [
       "array([0.03368421, 0.04      , 0.04631579, 0.05263158, 0.05894737,\n",
       "       0.06526316, 0.07157895, 0.07789474, 0.08421053, 0.09052632,\n",
       "       0.09684211, 0.10315789, 0.10947368, 0.11578947, 0.12210526,\n",
       "       0.12842105, 0.13473684, 0.14105263, 0.14736842, 0.15368421,\n",
       "       0.16      , 0.16631579, 0.17263158, 0.17894737, 0.18526316])"
      ]
     },
     "execution_count": 38,
     "metadata": {},
     "output_type": "execute_result"
    }
   ],
   "source": [
    "TAUS"
   ]
  },
  {
   "cell_type": "code",
   "execution_count": 39,
   "metadata": {
    "collapsed": true
   },
   "outputs": [],
   "source": [
    "#np.savez_compressed('results/TAUS_frac', TAUS=TAUS)"
   ]
  },
  {
   "cell_type": "code",
   "execution_count": null,
   "metadata": {
    "collapsed": true
   },
   "outputs": [],
   "source": [
    "# fig, ax = plt.subplots()\n",
    "# #plt.rc('text', usetex=True)\n",
    "# #plt.rc('font', family='serif')\n",
    "# plt.plot(TAUS, np.repeat(u_perc[0], C), '--r')\n",
    "# plt.plot(TAUS, f_perc[:,0], '-r')\n",
    "# plt.plot(TAUS, np.repeat(u_perc[1], C), '--b')\n",
    "# plt.plot(TAUS, f_perc[:,1], '-b')\n",
    "# plt.plot(TAUS, np.repeat(u_perc[2], C), '--m')\n",
    "# plt.plot(TAUS, f_perc[:,2], '-m')\n",
    "# plt.legend(['black, unfair', 'black, fair', 'hispanic, unfair', 'hispanic, fair', 'white, unfair', 'white, fair'], loc='upper left')\n",
    "# ax.grid(color='k', linestyle='--', linewidth=0.25)\n",
    "# plt.axis([0.04, 0.16, -0.01, 1.02])\n",
    "# plt.ylabel('% allocated to race')\n",
    "# #plt.xlabel(r\"$\\displaystyle\\tau$\",fontsize=16)\n",
    "# #plt.show()\n",
    "# plt.savefig('max_race_alloc_sim5.pdf', bbox_inches='tight')"
   ]
  },
  {
   "cell_type": "code",
   "execution_count": 15,
   "metadata": {},
   "outputs": [
    {
     "data": {
      "text/plain": [
       "0.04631578947368421"
      ]
     },
     "execution_count": 15,
     "metadata": {},
     "output_type": "execute_result"
    }
   ],
   "source": [
    "np.linspace(0.04, 0.16, 20)[1]\n"
   ]
  },
  {
   "cell_type": "code",
   "execution_count": 15,
   "metadata": {},
   "outputs": [
    {
     "data": {
      "text/plain": [
       "25"
      ]
     },
     "execution_count": 15,
     "metadata": {},
     "output_type": "execute_result"
    }
   ],
   "source": [
    "len(TAUS)"
   ]
  },
  {
   "cell_type": "code",
   "execution_count": 6,
   "metadata": {},
   "outputs": [
    {
     "data": {
      "text/plain": [
       "array([25., 25., 25., 25., 25., 25., 25., 25., 25., 25., 25., 25., 25.,\n",
       "       25., 25., 25., 25., 25., 25., 25., 25., 25., 25., 25., 25.])"
      ]
     },
     "execution_count": 6,
     "metadata": {},
     "output_type": "execute_result"
    }
   ],
   "source": [
    "np.sum(f_added,axis=1)"
   ]
  },
  {
   "cell_type": "code",
   "execution_count": 10,
   "metadata": {},
   "outputs": [
    {
     "data": {
      "image/png": "[encoded data removed]",
      "text/plain": [
       "<Figure size 1044x360 with 1 Axes>"
      ]
     },
     "metadata": {},
     "output_type": "display_data"
    }
   ],
   "source": [
    "#from matplotlib.basic_units import cm, inch\n",
    "fig, ax = plt.subplots(figsize=(14.5, 5))\n",
    "ind = np.arange(0,C*2,2)#[1:]\n",
    "ax.grid(color='k', linestyle='-', linewidth=0.25)\n",
    "width = 0.5\n",
    "p1 = ax.bar(ind, f_added[:,0], width, color='r')\n",
    "p2 = ax.bar(ind+width, f_added[:,1], width, color='b')\n",
    "p3 = ax.bar(ind+width*2, f_added[:,2], width, color='m')\n",
    "#ax.set_title('Scores by group and gender')\n",
    "ax.set_xticks(ind + width)\n",
    "labs = [\"%.3f\" % round(a,3) for a in TAUS]#[1:]]\n",
    "ax.set_xticklabels(labs)\n",
    "#ax.set_yticklabels(np.arange(0,50,5))\n",
    "\n",
    "plt.yticks(np.arange(0,26,5))\n",
    "plt.axis([-0.5, C*2-0.5, 0, 25])\n",
    "ax.legend((p1[0], p2[0], p3[0]), ('majority black', 'majority Hispanic', 'majority white'))\n",
    "#ax.yaxis.set_units(inch)\n",
    "#ax.autoscale_view()\n",
    "#plt.show()\n",
    "if frac:\n",
    "    plt.savefig('bar_K25_max_race_alloc_sim5_frac.pdf', bbox_inches='tight')\n",
    "else:\n",
    "    plt.savefig('bar_K25_max_race_alloc_sim5.pdf', bbox_inches='tight')"
   ]
  },
  {
   "cell_type": "code",
   "execution_count": null,
   "metadata": {
    "collapsed": true
   },
   "outputs": [],
   "source": [
    "# fig, ax = plt.subplots(figsize=(0.65, 5))\n",
    "# ind = np.zeros((1,))#np.arange(0,40,2)\n",
    "# ax.grid(color='k', linestyle='-', linewidth=0.25)\n",
    "# width = 0.5\n",
    "# p1 = ax.bar(ind, u_added[0], width, color='r')\n",
    "# p2 = ax.bar(ind+width, u_added[1], width, color='b')\n",
    "# p3 = ax.bar(ind+width*2, u_added[2], width, color='m')\n",
    "# #ax.set_title('Scores by group and gender')\n",
    "# ax.set_xticks(ind + width)\n",
    "# labs = [\"%.2f\" % round(a,2) for a in TAUS]#np.linspace(0.04, 0.16, 20)]\n",
    "# ax.set_xticklabels('')#labs)\n",
    "# #ax.set_yticklabels('')\n",
    "# #ax.set_yticklabels(np.arange(0,50,5))\n",
    "\n",
    "# plt.yticks(np.arange(0,51,5))\n",
    "# plt.axis([-0.5, 1.5, 0, 50])#40, 0, 50])\n",
    "# #ax.legend((p1[0], p2[0], p3[0]), ('black, unfair', 'hispanic, unfair', 'white, unfair'), loc='upper left')\n",
    "# #ax.yaxis.set_units(inch)\n",
    "# #ax.autoscale_view()\n",
    "# #plt.show()\n",
    "# plt.savefig('bar_unfair_max_race_alloc_sim5.pdf', bbox_inches='tight')\n",
    "# #plt.savefig('bar_max_race_alloc_sim5.pdf', bbox_inches='tight')"
   ]
  },
  {
   "cell_type": "code",
   "execution_count": 20,
   "metadata": {},
   "outputs": [
    {
     "data": {
      "text/plain": [
       "array([[37.22787648]])"
      ]
     },
     "execution_count": 20,
     "metadata": {},
     "output_type": "execute_result"
    }
   ],
   "source": [
    "u_obj"
   ]
  },
  {
   "cell_type": "code",
   "execution_count": 21,
   "metadata": {},
   "outputs": [
    {
     "data": {
      "text/plain": [
       "array([35.22919867, 35.12981961, 35.1851226 , 35.34375382, 35.45846169,\n",
       "       35.49901529, 35.65775108, 35.90124633, 36.2002202 , 36.21324974,\n",
       "       36.26936546, 36.33093845, 36.47250444, 36.64884028, 36.71781663,\n",
       "       36.71781663, 36.75485669, 36.94719527, 37.01434226, 37.01434226,\n",
       "       37.09455288, 37.09455288, 37.15596705, 37.15596705, 37.22787648])"
      ]
     },
     "execution_count": 21,
     "metadata": {},
     "output_type": "execute_result"
    }
   ],
   "source": [
    "f_obj"
   ]
  },
  {
   "cell_type": "code",
   "execution_count": 6,
   "metadata": {},
   "outputs": [
    {
     "data": {
      "image/png": "[encoded data removed]",
      "text/plain": [
       "<Figure size 360x360 with 1 Axes>"
      ]
     },
     "metadata": {},
     "output_type": "display_data"
    }
   ],
   "source": [
    "fig, ax = plt.subplots(figsize=(5, 5))\n",
    "plt.plot(TAUS, np.repeat(u_obj[0], len(TAUS)), '--k')\n",
    "plt.plot(TAUS, f_obj, '-k')\n",
    "#plt.legend(['unconstrained', 'constrained'], loc='upper left')\n",
    "ax.grid(color='k', linestyle='--', linewidth=0.25)\n",
    "plt.axis([TAUS[0], TAUS[-1], 35.0,37.3])\n",
    "plt.ylabel('objective')\n",
    "#plt.show()\n",
    "if frac:\n",
    "    plt.savefig('max_K25_race_obj_sim5_frac.pdf', bbox_inches='tight')\n",
    "else:\n",
    "    plt.savefig('max_K25_race_obj_sim5.pdf', bbox_inches='tight')"
   ]
  },
  {
   "cell_type": "code",
   "execution_count": 18,
   "metadata": {},
   "outputs": [
    {
     "data": {
      "text/plain": [
       "array([38.112022], dtype=float32)"
      ]
     },
     "execution_count": 18,
     "metadata": {},
     "output_type": "execute_result"
    }
   ],
   "source": [
    "u_obj"
   ]
  },
  {
   "cell_type": "code",
   "execution_count": 19,
   "metadata": {},
   "outputs": [
    {
     "data": {
      "text/plain": [
       "array([ 0.        , 35.12108612, 35.28052902, 35.3115654 , 35.34350586,\n",
       "       35.75682068, 36.07525253, 36.393116  , 36.63695908, 37.05997086,\n",
       "       37.58895874, 37.79861832, 37.79861832, 37.79861832, 37.79861832,\n",
       "       37.79861832, 37.79861832, 37.90341187, 38.00802994, 38.1120224 ])"
      ]
     },
     "execution_count": 19,
     "metadata": {},
     "output_type": "execute_result"
    }
   ],
   "source": [
    "f_obj"
   ]
  },
  {
   "cell_type": "code",
   "execution_count": null,
   "metadata": {
    "collapsed": true
   },
   "outputs": [],
   "source": [
    "A_perc"
   ]
  },
  {
   "cell_type": "markdown",
   "metadata": {
    "collapsed": true
   },
   "source": [
    "## Parity"
   ]
  },
  {
   "cell_type": "code",
   "execution_count": 2,
   "metadata": {},
   "outputs": [
    {
     "data": {
      "text/plain": [
       "array([[36.41529299]])"
      ]
     },
     "execution_count": 2,
     "metadata": {},
     "output_type": "execute_result"
    }
   ],
   "source": [
    "sim=5\n",
    "TT=1\n",
    "K = 25\n",
    "_, _, S, X, A, A_oh, neigh = load.get_data(sim, 0)\n",
    "n = S.shape[0]\n",
    "da = A.shape[-1]\n",
    "\n",
    "# 1. load weights of causal model\n",
    "DICT = np.load('school_weights_linear_mse_sim' + str(sim) + '_max1_frac.npz')\n",
    "w = DICT['w'].T\n",
    "w1 = w[0:da,:]\n",
    "w2 = w[da:da*2,:]\n",
    "w3 = w[da*2:da*3,:]\n",
    "w4 = w[da*3:da*4,:]\n",
    "neigh = neigh.astype(int)\n",
    "x1 = X[:,0]\n",
    "x3 = X[:,2]\n",
    "\n",
    "\n",
    "bit_mask=np.zeros([2**neigh.shape[1],neigh.shape[1]])\n",
    "ints=np.arange(2**neigh.shape[1],dtype=np.int)\n",
    "for i in range(neigh.shape[1]):\n",
    "    bit_mask[:,i]=ints%2\n",
    "    ints//=2\n",
    "\n",
    "\n",
    "\n",
    "\n",
    "def EY_inner(index,solution,a):\n",
    "    neighS = S[index,neigh[index,:]]\n",
    "    first  = np.dot(a,w1)*np.max(neighS*x1[neigh[index,:]])\n",
    "    second = np.dot(a,w2)*np.max(neighS*solution[neigh[index,:]].astype(float))\n",
    "    third  = np.dot(a,w3)*x3[index]\n",
    "    fourth = np.dot(a,w4)\n",
    "    return first + second + third + fourth\n",
    "\n",
    "\n",
    "\n",
    "filename = 'results/max_parity_k' + str(K) + '_sim' + str(sim) + '_frac' \n",
    "timename = 'results/time_parity_k' + str(K) + '_sim' + str(sim) + '_t' + str(1) + '_frac'              \n",
    "DICT = np.load(filename + '.npz')\n",
    "u_sol = DICT['sol']\n",
    "u_obj = 0.0\n",
    "#u_perc = np.zeros((1,3))\n",
    "#import pdb\n",
    "#pdb.set_trace()\n",
    "for i in range(n):\n",
    "    u_obj += EY_inner(i,u_sol,A[np.newaxis,i,:])\n",
    "u_added = np.sum(A[u_sol,:],axis=0)\n",
    "A_total = np.sum(A, axis=0)\n",
    "u_perc  = u_added / A_total\n",
    "u_obj"
   ]
  },
  {
   "cell_type": "markdown",
   "metadata": {},
   "source": [
    "## Minority"
   ]
  },
  {
   "cell_type": "code",
   "execution_count": 3,
   "metadata": {},
   "outputs": [
    {
     "data": {
      "text/plain": [
       "array([[33.42921265]])"
      ]
     },
     "execution_count": 3,
     "metadata": {},
     "output_type": "execute_result"
    }
   ],
   "source": [
    "_, _, S, X, A, A_oh, neigh = load.get_data(sim, 1)\n",
    "\n",
    "n = S.shape[0]\n",
    "da = A.shape[-1]\n",
    "K=25\n",
    "\n",
    "# 1. load weights of causal model                                                                                \n",
    "DICT = np.load('school_weights_linear_mse_sim' + str(sim) + '_max1_frac.npz')                                    \n",
    "w = DICT['w'].T                                                                                                  \n",
    "w1 = w[0:da,:]                                                                                                   \n",
    "w2 = w[da:da*2,:]\n",
    "w3 = w[da*2:da*3,:]\n",
    "w4 = w[da*3:da*4,:]\n",
    "neigh = neigh.astype(int)                                                                                        \n",
    "x1 = X[:,0]\n",
    "x3 = X[:,2]\n",
    "\n",
    "filename = 'results/max_minority_k' + str(K) + '_sim' + str(sim) + '_frac'\n",
    "timename = 'results/time_minority_k' + str(K) + '_sim' + str(sim) + '_t' + str(1) + '_frac'\n",
    "DICT = np.load(filename + '.npz')\n",
    "u_sol = DICT['sol']\n",
    "u_obj = 0.0\n",
    "for i in range(n):\n",
    "    u_obj += EY_inner(i,u_sol,A[np.newaxis,i,:])\n",
    "u_added = np.sum(A[u_sol,:],axis=0)\n",
    "A_total = np.sum(A, axis=0)\n",
    "u_perc  = u_added / A_total\n",
    "u_obj"
   ]
  },
  {
   "cell_type": "code",
   "execution_count": 6,
   "metadata": {},
   "outputs": [
    {
     "data": {
      "text/plain": [
       "25"
      ]
     },
     "execution_count": 6,
     "metadata": {},
     "output_type": "execute_result"
    }
   ],
   "source": [
    "np.sum(u_sol)"
   ]
  },
  {
   "cell_type": "code",
   "execution_count": 8,
   "metadata": {},
   "outputs": [
    {
     "data": {
      "text/plain": [
       "array([ 4., 21.,  0.])"
      ]
     },
     "execution_count": 8,
     "metadata": {},
     "output_type": "execute_result"
    }
   ],
   "source": [
    "A_added = np.sum(A_oh[u_sol,:],axis=0)\n",
    "A_added"
   ]
  },
  {
   "cell_type": "code",
   "execution_count": 32,
   "metadata": {},
   "outputs": [
    {
     "data": {
      "image/png": "[encoded data removed]",
      "text/plain": [
       "<Figure size 144x360 with 1 Axes>"
      ]
     },
     "metadata": {},
     "output_type": "display_data"
    }
   ],
   "source": [
    "#from matplotlib.basic_units import cm, inch\n",
    "fig, ax = plt.subplots(figsize=(2, 5))\n",
    "ind = 1.5#np.arange(0,2,2)#[1:]\n",
    "ax.grid(color='k', linestyle='-', linewidth=0.25)\n",
    "width = 0.5\n",
    "p1 = ax.bar(ind,A_added[0], width, color='r')\n",
    "p2 = ax.bar(ind+width, A_added[1], width, color='b')\n",
    "p3 = ax.bar(ind+width*2, A_added[2], width, color='m')\n",
    "#ax.set_title('Scores by group and gender')\n",
    "ax.set_xticks([ind + width])\n",
    "labs = [\"\"]#[\"%.3f\" % round(a,3) for a in TAUS]#[1:]]\n",
    "ax.set_xticklabels(labs)\n",
    "#ax.set_yticklabels(np.arange(0,50,5))\n",
    "\n",
    "plt.yticks(np.arange(0,26,5))\n",
    "plt.axis([-0.5, 5-0.5, 0, 25])\n",
    "#ax.legend((p1[0], p2[0], p3[0]), ('majority black', 'majority Hispanic', 'majority white'))\n",
    "#ax.yaxis.set_units(inch)\n",
    "#ax.autoscale_view()\n",
    "#plt.show()\n",
    "plt.savefig('bar_K25_minority_sim5_frac.pdf', bbox_inches='tight')\n",
    "#if frac:\n",
    "#    plt.savefig('bar_K25_max_race_alloc_sim5_frac.pdf', bbox_inches='tight')\n",
    "#else:\n",
    "#    plt.savefig('bar_K25_max_race_alloc_sim5.pdf', bbox_inches='tight')"
   ]
  },
  {
   "cell_type": "code",
   "execution_count": 9,
   "metadata": {},
   "outputs": [
    {
     "data": {
      "text/plain": [
       "array([0])"
      ]
     },
     "execution_count": 9,
     "metadata": {},
     "output_type": "execute_result"
    }
   ],
   "source": [
    "np.arange(0,2,2)"
   ]
  },
  {
   "cell_type": "code",
   "execution_count": null,
   "metadata": {
    "collapsed": true
   },
   "outputs": [],
   "source": []
  }
 ],
 "metadata": {
  "kernelspec": {
   "display_name": "Python 3-rdkit-env",
   "language": "python",
   "name": "3-rdkit-env"
  },
  "language_info": {
   "codemirror_mode": {
    "name": "ipython",
    "version": 3
   },
   "file_extension": ".py",
   "mimetype": "text/x-python",
   "name": "python",
   "nbconvert_exporter": "python",
   "pygments_lexer": "ipython3",
   "version": "3.6.8"
  }
 },
 "nbformat": 4,
 "nbformat_minor": 2
}
