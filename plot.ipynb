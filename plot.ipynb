{
 "cells": [
  {
   "cell_type": "code",
   "execution_count": 1,
   "metadata": {
    "collapsed": true
   },
   "outputs": [],
   "source": [
    "import numpy as np\n",
    "import matplotlib.pyplot as plt\n",
    "import pdb\n",
    "import load"
   ]
  },
  {
   "cell_type": "code",
   "execution_count": 2,
   "metadata": {
    "scrolled": true
   },
   "outputs": [
    {
     "name": "stdout",
     "output_type": "stream",
     "text": [
      "sim=5\n",
      "frac=1\n",
      "[0.03368421 0.04       0.04631579 0.05263158 0.05894737 0.06526316\n",
      " 0.07157895 0.07789474 0.08421053 0.09052632 0.09684211 0.10315789\n",
      " 0.10947368 0.11578947 0.12210526 0.12842105 0.13473684 0.14105263\n",
      " 0.14736842 0.15368421 0.16       0.16631579 0.17263158 0.17894737\n",
      " 0.18526316]\n",
      "0.03368421052631579\n",
      "0.04\n",
      "0.04631578947368421\n",
      "0.05263157894736842\n",
      "0.05894736842105263\n",
      "0.06526315789473684\n",
      "0.07157894736842105\n",
      "0.07789473684210527\n",
      "0.08421052631578947\n",
      "0.09052631578947368\n",
      "0.0968421052631579\n",
      "0.10315789473684212\n",
      "0.1094736842105263\n",
      "0.11578947368421053\n",
      "0.12210526315789474\n",
      "0.12842105263157894\n",
      "0.13473684210526315\n",
      "0.14105263157894737\n",
      "0.14736842105263157\n",
      "0.15368421052631578\n",
      "0.16\n",
      "0.16631578947368422\n",
      "0.1726315789473684\n",
      "0.17894736842105263\n",
      "0.18526315789473685\n"
     ]
    }
   ],
   "source": [
    "# load data\n",
    "sim = 5\n",
    "frac = 1\n",
    "print('sim=' + str(sim))\n",
    "print('frac=' + str(frac)) \n",
    "_, _, S, X, A_frac, A, neigh  = load.get_data(sim, 0)\n",
    "n = S.shape[0]\n",
    "da = A.shape[-1]\n",
    "if frac:\n",
    "    DICT = np.load('school_weights_linear_mse_sim' + str(sim) + '_max1_frac.npz')\n",
    "else:\n",
    "    DICT = np.load('school_weights_linear_mse_sim' + str(sim) + '_max1.npz')\n",
    "w = DICT['w'].T\n",
    "\n",
    "# get weight matrix, for x2\n",
    "w1 = w[0:da,:]\n",
    "w2 = w[da:da*2,:]\n",
    "w3 = w[da*2:da*3,:]\n",
    "w4 = w[da*3:da*4,:]\n",
    "neigh = neigh.astype(int)\n",
    "# we just care about int_on for now\n",
    "x1 = X[:,0]#.reshape(n,1)\n",
    "x3 = X[:,2]#.reshape(n,1)\n",
    "K=25\n",
    "A_ix = np.argmax(A,axis=1)\n",
    "\n",
    "\n",
    "def EY(index,solution,a):\n",
    "    #pdb.set_trace()\n",
    "    neighS = S[index,neigh[index,:]]\n",
    "    if MAX:\n",
    "        first  = w1[a]*np.max(neighS*x1[neigh[index,:]])                                                 \n",
    "        second = w2[a]*np.max(neighS*solution[neigh[index,:]].astype(float))                                                               \n",
    "    else:\n",
    "        first  = w1[a]*np.sum(neighS*x1[neigh[index,:]])                                                 \n",
    "        second = w2[a]*np.sum(neighS*solution[neigh[index,:]].astype(float))                                                               \n",
    "    third  = w3[a]*x3[index]\n",
    "    fourth = w4[a]\n",
    "    return first + second + third + fourth\n",
    "\n",
    "def EY_inner(index,solution,a):\n",
    "    neighS = S[index,neigh[index,:]]\n",
    "    first  = np.dot(a,w1)*np.max(neighS*x1[neigh[index,:]])\n",
    "    second = np.dot(a,w2)*np.max(neighS*solution[neigh[index,:]].astype(float))\n",
    "    third  = np.dot(a,w3)*x3[index]\n",
    "    fourth = np.dot(a,w4)\n",
    "    return first + second + third + fourth\n",
    "\n",
    "\n",
    "\n",
    "\n",
    "\n",
    "# TAUS = np.linspace(0.04, 0.16, 20)\n",
    "# TAU_DIFF = TAUS[1]-TAUS[0]\n",
    "# bb = [0.04-(a*TAU_DIFF) for a in np.arange(1,2)]\n",
    "# bb = np.flip(bb,axis=0)\n",
    "# cc = [0.16+(a*TAU_DIFF) for a in np.arange(1,5)]\n",
    "# TAUS = np.concatenate((bb,TAUS,cc))\n",
    "\n",
    "DICT = np.load('results/TAUS_frac.npz')\n",
    "TAUS = DICT['TAUS']\n",
    "C = len(TAUS)\n",
    "\n",
    "f_obj = np.zeros((C,))\n",
    "f_perc = np.zeros((C,3))\n",
    "count = 0\n",
    "A_total = np.sum(A,axis=0)\n",
    "f_added = np.zeros((C,3))\n",
    "#pdb.set_trace()\n",
    "print(TAUS)\n",
    "for Tau in TAUS:\n",
    "    print(Tau)\n",
    "    if frac:\n",
    "        filename = 'results/max_fair_k' + str(K) + '_' + str(Tau) + '_sim' + str(sim) + '_frac.npz'\n",
    "    else:\n",
    "        filename = 'results/max_fair_k' + str(K) + '_' + str(Tau) + '_sim' + str(sim) + '.npz'\n",
    "    DICT = np.load(filename)\n",
    "    sol = DICT['sol']\n",
    "    if np.sum(sol) > 0:\n",
    "        for i in range(n):\n",
    "            if frac:\n",
    "                f_obj[count] += EY_inner(i,sol,A_frac[np.newaxis,i,:])#A_ix[i])\n",
    "            else:\n",
    "                f_obj[count] += EY(i,sol,A_ix[i])\n",
    "        A_added = np.sum(A[sol,:],axis=0)\n",
    "        f_added[count,:] = A_added\n",
    "        f_perc[count,:]  = A_added / A_total\n",
    "    count += 1\n",
    "\n",
    "if frac:\n",
    "    filename = 'results/max_fair_k' + str(K) + '_' + str(TAUS[-1]) + '_sim' + str(sim) + '_frac.npz'\n",
    "else:\n",
    "    filename = 'results/max_fair_k' + str(K) + '_' + str(TAUS[-1]) + '_sim' + str(sim) + '.npz'\n",
    "DICT = np.load(filename)\n",
    "u_sol = DICT['sol']\n",
    "u_obj = 0.0\n",
    "#u_perc = np.zeros((1,3))\n",
    "for i in range(n):\n",
    "    if frac:\n",
    "        u_obj += EY_inner(i,u_sol,A_frac[np.newaxis,i,:])\n",
    "    else:\n",
    "        u_obj += EY(i,u_sol,A_ix[i])\n",
    "u_added = np.sum(A[u_sol,:],axis=0)\n",
    "u_perc  = u_added / A_total"
   ]
  },
  {
   "cell_type": "code",
   "execution_count": 10,
   "metadata": {},
   "outputs": [
    {
     "data": {
      "image/png": "[encoded data removed]",
      "text/plain": [
       "<Figure size 1044x360 with 1 Axes>"
      ]
     },
     "metadata": {},
     "output_type": "display_data"
    }
   ],
   "source": [
    "#from matplotlib.basic_units import cm, inch\n",
    "fig, ax = plt.subplots(figsize=(14.5, 5))\n",
    "ind = np.arange(0,C*2,2)#[1:]\n",
    "ax.grid(color='k', linestyle='-', linewidth=0.25)\n",
    "width = 0.5\n",
    "p1 = ax.bar(ind, f_added[:,0], width, color='r')\n",
    "p2 = ax.bar(ind+width, f_added[:,1], width, color='b')\n",
    "p3 = ax.bar(ind+width*2, f_added[:,2], width, color='m')\n",
    "#ax.set_title('Scores by group and gender')\n",
    "ax.set_xticks(ind + width)\n",
    "labs = [\"%.3f\" % round(a,3) for a in TAUS]#[1:]]\n",
    "ax.set_xticklabels(labs)\n",
    "#ax.set_yticklabels(np.arange(0,50,5))\n",
    "\n",
    "plt.yticks(np.arange(0,26,5))\n",
    "plt.axis([-0.5, C*2-0.5, 0, 25])\n",
    "ax.legend((p1[0], p2[0], p3[0]), ('majority black', 'majority Hispanic', 'majority white'))\n",
    "#ax.yaxis.set_units(inch)\n",
    "#ax.autoscale_view()\n",
    "#plt.show()\n",
    "if frac:\n",
    "    plt.savefig('bar_K25_max_race_alloc_sim5_frac.pdf', bbox_inches='tight')\n",
    "else:\n",
    "    plt.savefig('bar_K25_max_race_alloc_sim5.pdf', bbox_inches='tight')"
   ]
  },
  {
   "cell_type": "code",
   "execution_count": 6,
   "metadata": {},
   "outputs": [
    {
     "data": {
      "image/png": "[encoded data removed]",
      "text/plain": [
       "<Figure size 360x360 with 1 Axes>"
      ]
     },
     "metadata": {},
     "output_type": "display_data"
    }
   ],
   "source": [
    "fig, ax = plt.subplots(figsize=(5, 5))\n",
    "plt.plot(TAUS, np.repeat(u_obj[0], len(TAUS)), '--k')\n",
    "plt.plot(TAUS, f_obj, '-k')\n",
    "#plt.legend(['unconstrained', 'constrained'], loc='upper left')\n",
    "ax.grid(color='k', linestyle='--', linewidth=0.25)\n",
    "plt.axis([TAUS[0], TAUS[-1], 35.0,37.3])\n",
    "plt.ylabel('objective')\n",
    "#plt.show()\n",
    "if frac:\n",
    "    plt.savefig('max_K25_race_obj_sim5_frac.pdf', bbox_inches='tight')\n",
    "else:\n",
    "    plt.savefig('max_K25_race_obj_sim5.pdf', bbox_inches='tight')"
   ]
  },
  {
   "cell_type": "markdown",
   "metadata": {
    "collapsed": true
   },
   "source": [
    "## Parity Constraint"
   ]
  },
  {
   "cell_type": "code",
   "execution_count": 2,
   "metadata": {},
   "outputs": [
    {
     "data": {
      "text/plain": [
       "array([[36.41529299]])"
      ]
     },
     "execution_count": 2,
     "metadata": {},
     "output_type": "execute_result"
    }
   ],
   "source": [
    "sim=5\n",
    "TT=1\n",
    "K = 25\n",
    "_, _, S, X, A, A_oh, neigh = load.get_data(sim, 0)\n",
    "n = S.shape[0]\n",
    "da = A.shape[-1]\n",
    "\n",
    "# 1. load weights of causal model\n",
    "DICT = np.load('school_weights_linear_mse_sim' + str(sim) + '_max1_frac.npz')\n",
    "w = DICT['w'].T\n",
    "w1 = w[0:da,:]\n",
    "w2 = w[da:da*2,:]\n",
    "w3 = w[da*2:da*3,:]\n",
    "w4 = w[da*3:da*4,:]\n",
    "neigh = neigh.astype(int)\n",
    "x1 = X[:,0]\n",
    "x3 = X[:,2]\n",
    "\n",
    "\n",
    "bit_mask=np.zeros([2**neigh.shape[1],neigh.shape[1]])\n",
    "ints=np.arange(2**neigh.shape[1],dtype=np.int)\n",
    "for i in range(neigh.shape[1]):\n",
    "    bit_mask[:,i]=ints%2\n",
    "    ints//=2\n",
    "\n",
    "\n",
    "\n",
    "\n",
    "def EY_inner(index,solution,a):\n",
    "    neighS = S[index,neigh[index,:]]\n",
    "    first  = np.dot(a,w1)*np.max(neighS*x1[neigh[index,:]])\n",
    "    second = np.dot(a,w2)*np.max(neighS*solution[neigh[index,:]].astype(float))\n",
    "    third  = np.dot(a,w3)*x3[index]\n",
    "    fourth = np.dot(a,w4)\n",
    "    return first + second + third + fourth\n",
    "\n",
    "\n",
    "\n",
    "filename = 'results/max_parity_k' + str(K) + '_sim' + str(sim) + '_frac' \n",
    "timename = 'results/time_parity_k' + str(K) + '_sim' + str(sim) + '_t' + str(1) + '_frac'              \n",
    "DICT = np.load(filename + '.npz')\n",
    "u_sol = DICT['sol']\n",
    "u_obj = 0.0\n",
    "#u_perc = np.zeros((1,3))\n",
    "#import pdb\n",
    "#pdb.set_trace()\n",
    "for i in range(n):\n",
    "    u_obj += EY_inner(i,u_sol,A[np.newaxis,i,:])\n",
    "u_added = np.sum(A[u_sol,:],axis=0)\n",
    "A_total = np.sum(A, axis=0)\n",
    "u_perc  = u_added / A_total\n",
    "u_obj"
   ]
  },
  {
   "cell_type": "markdown",
   "metadata": {},
   "source": [
    "## Minority Constraint"
   ]
  },
  {
   "cell_type": "code",
   "execution_count": 3,
   "metadata": {},
   "outputs": [
    {
     "data": {
      "text/plain": [
       "array([[33.42921265]])"
      ]
     },
     "execution_count": 3,
     "metadata": {},
     "output_type": "execute_result"
    }
   ],
   "source": [
    "_, _, S, X, A, A_oh, neigh = load.get_data(sim, 1)\n",
    "\n",
    "n = S.shape[0]\n",
    "da = A.shape[-1]\n",
    "K=25\n",
    "\n",
    "# 1. load weights of causal model                                                                                \n",
    "DICT = np.load('school_weights_linear_mse_sim' + str(sim) + '_max1_frac.npz')                                    \n",
    "w = DICT['w'].T                                                                                                  \n",
    "w1 = w[0:da,:]                                                                                                   \n",
    "w2 = w[da:da*2,:]\n",
    "w3 = w[da*2:da*3,:]\n",
    "w4 = w[da*3:da*4,:]\n",
    "neigh = neigh.astype(int)                                                                                        \n",
    "x1 = X[:,0]\n",
    "x3 = X[:,2]\n",
    "\n",
    "filename = 'results/max_minority_k' + str(K) + '_sim' + str(sim) + '_frac'\n",
    "timename = 'results/time_minority_k' + str(K) + '_sim' + str(sim) + '_t' + str(1) + '_frac'\n",
    "DICT = np.load(filename + '.npz')\n",
    "u_sol = DICT['sol']\n",
    "u_obj = 0.0\n",
    "for i in range(n):\n",
    "    u_obj += EY_inner(i,u_sol,A[np.newaxis,i,:])\n",
    "u_added = np.sum(A[u_sol,:],axis=0)\n",
    "A_total = np.sum(A, axis=0)\n",
    "u_perc  = u_added / A_total\n",
    "u_obj"
   ]
  },
  {
   "cell_type": "code",
   "execution_count": 32,
   "metadata": {},
   "outputs": [
    {
     "data": {
      "image/png": "[encoded data removed]",
      "text/plain": [
       "<Figure size 144x360 with 1 Axes>"
      ]
     },
     "metadata": {},
     "output_type": "display_data"
    }
   ],
   "source": [
    "#from matplotlib.basic_units import cm, inch\n",
    "fig, ax = plt.subplots(figsize=(2, 5))\n",
    "ind = 1.5#np.arange(0,2,2)#[1:]\n",
    "ax.grid(color='k', linestyle='-', linewidth=0.25)\n",
    "width = 0.5\n",
    "p1 = ax.bar(ind,A_added[0], width, color='r')\n",
    "p2 = ax.bar(ind+width, A_added[1], width, color='b')\n",
    "p3 = ax.bar(ind+width*2, A_added[2], width, color='m')\n",
    "#ax.set_title('Scores by group and gender')\n",
    "ax.set_xticks([ind + width])\n",
    "labs = [\"\"]#[\"%.3f\" % round(a,3) for a in TAUS]#[1:]]\n",
    "ax.set_xticklabels(labs)\n",
    "#ax.set_yticklabels(np.arange(0,50,5))\n",
    "\n",
    "plt.yticks(np.arange(0,26,5))\n",
    "plt.axis([-0.5, 5-0.5, 0, 25])\n",
    "#ax.legend((p1[0], p2[0], p3[0]), ('majority black', 'majority Hispanic', 'majority white'))\n",
    "#ax.yaxis.set_units(inch)\n",
    "#ax.autoscale_view()\n",
    "#plt.show()\n",
    "plt.savefig('bar_K25_minority_sim5_frac.pdf', bbox_inches='tight')\n",
    "#if frac:\n",
    "#    plt.savefig('bar_K25_max_race_alloc_sim5_frac.pdf', bbox_inches='tight')\n",
    "#else:\n",
    "#    plt.savefig('bar_K25_max_race_alloc_sim5.pdf', bbox_inches='tight')"
   ]
  }
 ],
 "metadata": {
  "anaconda-cloud": {},
  "kernelspec": {
   "display_name": "Python (MPC)",
   "language": "python",
   "name": "mpc"
  },
  "language_info": {
   "codemirror_mode": {
    "name": "ipython",
    "version": 3
   },
   "file_extension": ".py",
   "mimetype": "text/x-python",
   "name": "python",
   "nbconvert_exporter": "python",
   "pygments_lexer": "ipython3",
   "version": "3.6.1"
  }
 },
 "nbformat": 4,
 "nbformat_minor": 2
}
